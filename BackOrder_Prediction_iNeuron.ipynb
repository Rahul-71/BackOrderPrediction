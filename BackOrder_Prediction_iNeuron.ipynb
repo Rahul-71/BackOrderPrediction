{
  "nbformat": 4,
  "nbformat_minor": 0,
  "metadata": {
    "colab": {
      "name": "BackOrder Prediction_iNeuron.ipynb",
      "provenance": [],
      "collapsed_sections": [],
      "mount_file_id": "1HlT2JYe3AUJCq0M1l1KJUv6SHOTFYfmv",
      "authorship_tag": "ABX9TyOj0CbsRFmMCm5Yd04ECa9f",
      "include_colab_link": true
    },
    "kernelspec": {
      "name": "python3",
      "display_name": "Python 3"
    },
    "language_info": {
      "name": "python"
    }
  },
  "cells": [
    {
      "cell_type": "markdown",
      "metadata": {
        "id": "view-in-github",
        "colab_type": "text"
      },
      "source": [
        "<a href=\"https://colab.research.google.com/github/Rahul-71/BackOrderPrediction/blob/main/BackOrder_Prediction_iNeuron.ipynb\" target=\"_parent\"><img src=\"https://colab.research.google.com/assets/colab-badge.svg\" alt=\"Open In Colab\"/></a>"
      ]
    },
    {
      "cell_type": "code",
      "metadata": {
        "id": "uQ7c87Y8MHEi"
      },
      "source": [
        "from warnings import filterwarnings\n",
        "filterwarnings(action='ignore')\n",
        "import pandas as pd\n",
        "import numpy as np\n",
        "import matplotlib.pyplot as plt\n",
        "import seaborn as sns\n",
        "from imblearn.over_sampling import SMOTE"
      ],
      "execution_count": 72,
      "outputs": []
    },
    {
      "cell_type": "code",
      "metadata": {
        "id": "OZA0AP-qMcby"
      },
      "source": [
        "df = pd.read_csv('/content/drive/MyDrive/AAIC/DATASET/BackOrder_Internship/Kaggle_Training_Dataset_v2.csv')"
      ],
      "execution_count": 73,
      "outputs": []
    },
    {
      "cell_type": "code",
      "metadata": {
        "colab": {
          "base_uri": "https://localhost:8080/"
        },
        "id": "ojOCJH52dWy0",
        "outputId": "4a4d6f73-8e1a-475b-cb8f-8c1734a71a92"
      },
      "source": [
        "df.shape"
      ],
      "execution_count": 74,
      "outputs": [
        {
          "output_type": "execute_result",
          "data": {
            "text/plain": [
              "(1687861, 23)"
            ]
          },
          "metadata": {},
          "execution_count": 74
        }
      ]
    },
    {
      "cell_type": "code",
      "metadata": {
        "colab": {
          "base_uri": "https://localhost:8080/",
          "height": 223
        },
        "id": "0rsSpPWtSr7J",
        "outputId": "4c86d11c-195b-4bed-c468-f781b11919ab"
      },
      "source": [
        "df.head()"
      ],
      "execution_count": 75,
      "outputs": [
        {
          "output_type": "execute_result",
          "data": {
            "text/html": [
              "<div>\n",
              "<style scoped>\n",
              "    .dataframe tbody tr th:only-of-type {\n",
              "        vertical-align: middle;\n",
              "    }\n",
              "\n",
              "    .dataframe tbody tr th {\n",
              "        vertical-align: top;\n",
              "    }\n",
              "\n",
              "    .dataframe thead th {\n",
              "        text-align: right;\n",
              "    }\n",
              "</style>\n",
              "<table border=\"1\" class=\"dataframe\">\n",
              "  <thead>\n",
              "    <tr style=\"text-align: right;\">\n",
              "      <th></th>\n",
              "      <th>sku</th>\n",
              "      <th>national_inv</th>\n",
              "      <th>lead_time</th>\n",
              "      <th>in_transit_qty</th>\n",
              "      <th>forecast_3_month</th>\n",
              "      <th>forecast_6_month</th>\n",
              "      <th>forecast_9_month</th>\n",
              "      <th>sales_1_month</th>\n",
              "      <th>sales_3_month</th>\n",
              "      <th>sales_6_month</th>\n",
              "      <th>sales_9_month</th>\n",
              "      <th>min_bank</th>\n",
              "      <th>potential_issue</th>\n",
              "      <th>pieces_past_due</th>\n",
              "      <th>perf_6_month_avg</th>\n",
              "      <th>perf_12_month_avg</th>\n",
              "      <th>local_bo_qty</th>\n",
              "      <th>deck_risk</th>\n",
              "      <th>oe_constraint</th>\n",
              "      <th>ppap_risk</th>\n",
              "      <th>stop_auto_buy</th>\n",
              "      <th>rev_stop</th>\n",
              "      <th>went_on_backorder</th>\n",
              "    </tr>\n",
              "  </thead>\n",
              "  <tbody>\n",
              "    <tr>\n",
              "      <th>0</th>\n",
              "      <td>1026827</td>\n",
              "      <td>0.0</td>\n",
              "      <td>NaN</td>\n",
              "      <td>0.0</td>\n",
              "      <td>0.0</td>\n",
              "      <td>0.0</td>\n",
              "      <td>0.0</td>\n",
              "      <td>0.0</td>\n",
              "      <td>0.0</td>\n",
              "      <td>0.0</td>\n",
              "      <td>0.0</td>\n",
              "      <td>0.0</td>\n",
              "      <td>No</td>\n",
              "      <td>0.0</td>\n",
              "      <td>-99.00</td>\n",
              "      <td>-99.00</td>\n",
              "      <td>0.0</td>\n",
              "      <td>No</td>\n",
              "      <td>No</td>\n",
              "      <td>No</td>\n",
              "      <td>Yes</td>\n",
              "      <td>No</td>\n",
              "      <td>No</td>\n",
              "    </tr>\n",
              "    <tr>\n",
              "      <th>1</th>\n",
              "      <td>1043384</td>\n",
              "      <td>2.0</td>\n",
              "      <td>9.0</td>\n",
              "      <td>0.0</td>\n",
              "      <td>0.0</td>\n",
              "      <td>0.0</td>\n",
              "      <td>0.0</td>\n",
              "      <td>0.0</td>\n",
              "      <td>0.0</td>\n",
              "      <td>0.0</td>\n",
              "      <td>0.0</td>\n",
              "      <td>0.0</td>\n",
              "      <td>No</td>\n",
              "      <td>0.0</td>\n",
              "      <td>0.99</td>\n",
              "      <td>0.99</td>\n",
              "      <td>0.0</td>\n",
              "      <td>No</td>\n",
              "      <td>No</td>\n",
              "      <td>No</td>\n",
              "      <td>Yes</td>\n",
              "      <td>No</td>\n",
              "      <td>No</td>\n",
              "    </tr>\n",
              "    <tr>\n",
              "      <th>2</th>\n",
              "      <td>1043696</td>\n",
              "      <td>2.0</td>\n",
              "      <td>NaN</td>\n",
              "      <td>0.0</td>\n",
              "      <td>0.0</td>\n",
              "      <td>0.0</td>\n",
              "      <td>0.0</td>\n",
              "      <td>0.0</td>\n",
              "      <td>0.0</td>\n",
              "      <td>0.0</td>\n",
              "      <td>0.0</td>\n",
              "      <td>0.0</td>\n",
              "      <td>No</td>\n",
              "      <td>0.0</td>\n",
              "      <td>-99.00</td>\n",
              "      <td>-99.00</td>\n",
              "      <td>0.0</td>\n",
              "      <td>Yes</td>\n",
              "      <td>No</td>\n",
              "      <td>No</td>\n",
              "      <td>Yes</td>\n",
              "      <td>No</td>\n",
              "      <td>No</td>\n",
              "    </tr>\n",
              "    <tr>\n",
              "      <th>3</th>\n",
              "      <td>1043852</td>\n",
              "      <td>7.0</td>\n",
              "      <td>8.0</td>\n",
              "      <td>0.0</td>\n",
              "      <td>0.0</td>\n",
              "      <td>0.0</td>\n",
              "      <td>0.0</td>\n",
              "      <td>0.0</td>\n",
              "      <td>0.0</td>\n",
              "      <td>0.0</td>\n",
              "      <td>0.0</td>\n",
              "      <td>1.0</td>\n",
              "      <td>No</td>\n",
              "      <td>0.0</td>\n",
              "      <td>0.10</td>\n",
              "      <td>0.13</td>\n",
              "      <td>0.0</td>\n",
              "      <td>No</td>\n",
              "      <td>No</td>\n",
              "      <td>No</td>\n",
              "      <td>Yes</td>\n",
              "      <td>No</td>\n",
              "      <td>No</td>\n",
              "    </tr>\n",
              "    <tr>\n",
              "      <th>4</th>\n",
              "      <td>1044048</td>\n",
              "      <td>8.0</td>\n",
              "      <td>NaN</td>\n",
              "      <td>0.0</td>\n",
              "      <td>0.0</td>\n",
              "      <td>0.0</td>\n",
              "      <td>0.0</td>\n",
              "      <td>0.0</td>\n",
              "      <td>0.0</td>\n",
              "      <td>0.0</td>\n",
              "      <td>4.0</td>\n",
              "      <td>2.0</td>\n",
              "      <td>No</td>\n",
              "      <td>0.0</td>\n",
              "      <td>-99.00</td>\n",
              "      <td>-99.00</td>\n",
              "      <td>0.0</td>\n",
              "      <td>Yes</td>\n",
              "      <td>No</td>\n",
              "      <td>No</td>\n",
              "      <td>Yes</td>\n",
              "      <td>No</td>\n",
              "      <td>No</td>\n",
              "    </tr>\n",
              "  </tbody>\n",
              "</table>\n",
              "</div>"
            ],
            "text/plain": [
              "       sku  national_inv  lead_time  ...  stop_auto_buy  rev_stop  went_on_backorder\n",
              "0  1026827           0.0        NaN  ...            Yes        No                 No\n",
              "1  1043384           2.0        9.0  ...            Yes        No                 No\n",
              "2  1043696           2.0        NaN  ...            Yes        No                 No\n",
              "3  1043852           7.0        8.0  ...            Yes        No                 No\n",
              "4  1044048           8.0        NaN  ...            Yes        No                 No\n",
              "\n",
              "[5 rows x 23 columns]"
            ]
          },
          "metadata": {},
          "execution_count": 75
        }
      ]
    },
    {
      "cell_type": "code",
      "metadata": {
        "colab": {
          "base_uri": "https://localhost:8080/"
        },
        "id": "39phU-8DSkc9",
        "outputId": "b0f88cb4-d42e-4565-d117-a437c2c44e31"
      },
      "source": [
        "df.info()"
      ],
      "execution_count": 76,
      "outputs": [
        {
          "output_type": "stream",
          "name": "stdout",
          "text": [
            "<class 'pandas.core.frame.DataFrame'>\n",
            "RangeIndex: 1687861 entries, 0 to 1687860\n",
            "Data columns (total 23 columns):\n",
            " #   Column             Non-Null Count    Dtype  \n",
            "---  ------             --------------    -----  \n",
            " 0   sku                1687861 non-null  object \n",
            " 1   national_inv       1687860 non-null  float64\n",
            " 2   lead_time          1586967 non-null  float64\n",
            " 3   in_transit_qty     1687860 non-null  float64\n",
            " 4   forecast_3_month   1687860 non-null  float64\n",
            " 5   forecast_6_month   1687860 non-null  float64\n",
            " 6   forecast_9_month   1687860 non-null  float64\n",
            " 7   sales_1_month      1687860 non-null  float64\n",
            " 8   sales_3_month      1687860 non-null  float64\n",
            " 9   sales_6_month      1687860 non-null  float64\n",
            " 10  sales_9_month      1687860 non-null  float64\n",
            " 11  min_bank           1687860 non-null  float64\n",
            " 12  potential_issue    1687860 non-null  object \n",
            " 13  pieces_past_due    1687860 non-null  float64\n",
            " 14  perf_6_month_avg   1687860 non-null  float64\n",
            " 15  perf_12_month_avg  1687860 non-null  float64\n",
            " 16  local_bo_qty       1687860 non-null  float64\n",
            " 17  deck_risk          1687860 non-null  object \n",
            " 18  oe_constraint      1687860 non-null  object \n",
            " 19  ppap_risk          1687860 non-null  object \n",
            " 20  stop_auto_buy      1687860 non-null  object \n",
            " 21  rev_stop           1687860 non-null  object \n",
            " 22  went_on_backorder  1687860 non-null  object \n",
            "dtypes: float64(15), object(8)\n",
            "memory usage: 296.2+ MB\n"
          ]
        }
      ]
    },
    {
      "cell_type": "code",
      "metadata": {
        "colab": {
          "base_uri": "https://localhost:8080/",
          "height": 240
        },
        "id": "K5G0eWR0bvzW",
        "outputId": "daee42aa-9b8d-4207-a194-4cc5b9b6dc79"
      },
      "source": [
        "df.tail()"
      ],
      "execution_count": 77,
      "outputs": [
        {
          "output_type": "execute_result",
          "data": {
            "text/html": [
              "<div>\n",
              "<style scoped>\n",
              "    .dataframe tbody tr th:only-of-type {\n",
              "        vertical-align: middle;\n",
              "    }\n",
              "\n",
              "    .dataframe tbody tr th {\n",
              "        vertical-align: top;\n",
              "    }\n",
              "\n",
              "    .dataframe thead th {\n",
              "        text-align: right;\n",
              "    }\n",
              "</style>\n",
              "<table border=\"1\" class=\"dataframe\">\n",
              "  <thead>\n",
              "    <tr style=\"text-align: right;\">\n",
              "      <th></th>\n",
              "      <th>sku</th>\n",
              "      <th>national_inv</th>\n",
              "      <th>lead_time</th>\n",
              "      <th>in_transit_qty</th>\n",
              "      <th>forecast_3_month</th>\n",
              "      <th>forecast_6_month</th>\n",
              "      <th>forecast_9_month</th>\n",
              "      <th>sales_1_month</th>\n",
              "      <th>sales_3_month</th>\n",
              "      <th>sales_6_month</th>\n",
              "      <th>sales_9_month</th>\n",
              "      <th>min_bank</th>\n",
              "      <th>potential_issue</th>\n",
              "      <th>pieces_past_due</th>\n",
              "      <th>perf_6_month_avg</th>\n",
              "      <th>perf_12_month_avg</th>\n",
              "      <th>local_bo_qty</th>\n",
              "      <th>deck_risk</th>\n",
              "      <th>oe_constraint</th>\n",
              "      <th>ppap_risk</th>\n",
              "      <th>stop_auto_buy</th>\n",
              "      <th>rev_stop</th>\n",
              "      <th>went_on_backorder</th>\n",
              "    </tr>\n",
              "  </thead>\n",
              "  <tbody>\n",
              "    <tr>\n",
              "      <th>1687856</th>\n",
              "      <td>1373987</td>\n",
              "      <td>-1.0</td>\n",
              "      <td>NaN</td>\n",
              "      <td>0.0</td>\n",
              "      <td>5.0</td>\n",
              "      <td>7.0</td>\n",
              "      <td>9.0</td>\n",
              "      <td>1.0</td>\n",
              "      <td>3.0</td>\n",
              "      <td>3.0</td>\n",
              "      <td>8.0</td>\n",
              "      <td>0.0</td>\n",
              "      <td>No</td>\n",
              "      <td>0.0</td>\n",
              "      <td>-99.00</td>\n",
              "      <td>-99.00</td>\n",
              "      <td>1.0</td>\n",
              "      <td>No</td>\n",
              "      <td>No</td>\n",
              "      <td>No</td>\n",
              "      <td>Yes</td>\n",
              "      <td>No</td>\n",
              "      <td>No</td>\n",
              "    </tr>\n",
              "    <tr>\n",
              "      <th>1687857</th>\n",
              "      <td>1524346</td>\n",
              "      <td>-1.0</td>\n",
              "      <td>9.0</td>\n",
              "      <td>0.0</td>\n",
              "      <td>7.0</td>\n",
              "      <td>9.0</td>\n",
              "      <td>11.0</td>\n",
              "      <td>0.0</td>\n",
              "      <td>8.0</td>\n",
              "      <td>11.0</td>\n",
              "      <td>12.0</td>\n",
              "      <td>0.0</td>\n",
              "      <td>No</td>\n",
              "      <td>0.0</td>\n",
              "      <td>0.86</td>\n",
              "      <td>0.84</td>\n",
              "      <td>1.0</td>\n",
              "      <td>Yes</td>\n",
              "      <td>No</td>\n",
              "      <td>No</td>\n",
              "      <td>No</td>\n",
              "      <td>No</td>\n",
              "      <td>Yes</td>\n",
              "    </tr>\n",
              "    <tr>\n",
              "      <th>1687858</th>\n",
              "      <td>1439563</td>\n",
              "      <td>62.0</td>\n",
              "      <td>9.0</td>\n",
              "      <td>16.0</td>\n",
              "      <td>39.0</td>\n",
              "      <td>87.0</td>\n",
              "      <td>126.0</td>\n",
              "      <td>35.0</td>\n",
              "      <td>63.0</td>\n",
              "      <td>153.0</td>\n",
              "      <td>205.0</td>\n",
              "      <td>12.0</td>\n",
              "      <td>No</td>\n",
              "      <td>0.0</td>\n",
              "      <td>0.86</td>\n",
              "      <td>0.84</td>\n",
              "      <td>6.0</td>\n",
              "      <td>No</td>\n",
              "      <td>No</td>\n",
              "      <td>No</td>\n",
              "      <td>Yes</td>\n",
              "      <td>No</td>\n",
              "      <td>No</td>\n",
              "    </tr>\n",
              "    <tr>\n",
              "      <th>1687859</th>\n",
              "      <td>1502009</td>\n",
              "      <td>19.0</td>\n",
              "      <td>4.0</td>\n",
              "      <td>0.0</td>\n",
              "      <td>0.0</td>\n",
              "      <td>0.0</td>\n",
              "      <td>0.0</td>\n",
              "      <td>2.0</td>\n",
              "      <td>7.0</td>\n",
              "      <td>12.0</td>\n",
              "      <td>20.0</td>\n",
              "      <td>1.0</td>\n",
              "      <td>No</td>\n",
              "      <td>0.0</td>\n",
              "      <td>0.73</td>\n",
              "      <td>0.78</td>\n",
              "      <td>1.0</td>\n",
              "      <td>No</td>\n",
              "      <td>No</td>\n",
              "      <td>No</td>\n",
              "      <td>Yes</td>\n",
              "      <td>No</td>\n",
              "      <td>No</td>\n",
              "    </tr>\n",
              "    <tr>\n",
              "      <th>1687860</th>\n",
              "      <td>(1687860 rows)</td>\n",
              "      <td>NaN</td>\n",
              "      <td>NaN</td>\n",
              "      <td>NaN</td>\n",
              "      <td>NaN</td>\n",
              "      <td>NaN</td>\n",
              "      <td>NaN</td>\n",
              "      <td>NaN</td>\n",
              "      <td>NaN</td>\n",
              "      <td>NaN</td>\n",
              "      <td>NaN</td>\n",
              "      <td>NaN</td>\n",
              "      <td>NaN</td>\n",
              "      <td>NaN</td>\n",
              "      <td>NaN</td>\n",
              "      <td>NaN</td>\n",
              "      <td>NaN</td>\n",
              "      <td>NaN</td>\n",
              "      <td>NaN</td>\n",
              "      <td>NaN</td>\n",
              "      <td>NaN</td>\n",
              "      <td>NaN</td>\n",
              "      <td>NaN</td>\n",
              "    </tr>\n",
              "  </tbody>\n",
              "</table>\n",
              "</div>"
            ],
            "text/plain": [
              "                    sku  national_inv  ...  rev_stop  went_on_backorder\n",
              "1687856         1373987          -1.0  ...        No                 No\n",
              "1687857         1524346          -1.0  ...        No                Yes\n",
              "1687858         1439563          62.0  ...        No                 No\n",
              "1687859         1502009          19.0  ...        No                 No\n",
              "1687860  (1687860 rows)           NaN  ...       NaN                NaN\n",
              "\n",
              "[5 rows x 23 columns]"
            ]
          },
          "metadata": {},
          "execution_count": 77
        }
      ]
    },
    {
      "cell_type": "markdown",
      "metadata": {
        "id": "KmjQQcpEGik5"
      },
      "source": [
        "* Last rows contains all the null values, it doesn't add any value to the dataset. So, dropping this row from the dataset."
      ]
    },
    {
      "cell_type": "code",
      "metadata": {
        "colab": {
          "base_uri": "https://localhost:8080/",
          "height": 316
        },
        "id": "qg5FDdpiSnzq",
        "outputId": "6e881b2d-b76d-4f0e-c33e-f62731f6301a"
      },
      "source": [
        "df.describe()"
      ],
      "execution_count": 78,
      "outputs": [
        {
          "output_type": "execute_result",
          "data": {
            "text/html": [
              "<div>\n",
              "<style scoped>\n",
              "    .dataframe tbody tr th:only-of-type {\n",
              "        vertical-align: middle;\n",
              "    }\n",
              "\n",
              "    .dataframe tbody tr th {\n",
              "        vertical-align: top;\n",
              "    }\n",
              "\n",
              "    .dataframe thead th {\n",
              "        text-align: right;\n",
              "    }\n",
              "</style>\n",
              "<table border=\"1\" class=\"dataframe\">\n",
              "  <thead>\n",
              "    <tr style=\"text-align: right;\">\n",
              "      <th></th>\n",
              "      <th>national_inv</th>\n",
              "      <th>lead_time</th>\n",
              "      <th>in_transit_qty</th>\n",
              "      <th>forecast_3_month</th>\n",
              "      <th>forecast_6_month</th>\n",
              "      <th>forecast_9_month</th>\n",
              "      <th>sales_1_month</th>\n",
              "      <th>sales_3_month</th>\n",
              "      <th>sales_6_month</th>\n",
              "      <th>sales_9_month</th>\n",
              "      <th>min_bank</th>\n",
              "      <th>pieces_past_due</th>\n",
              "      <th>perf_6_month_avg</th>\n",
              "      <th>perf_12_month_avg</th>\n",
              "      <th>local_bo_qty</th>\n",
              "    </tr>\n",
              "  </thead>\n",
              "  <tbody>\n",
              "    <tr>\n",
              "      <th>count</th>\n",
              "      <td>1.687860e+06</td>\n",
              "      <td>1.586967e+06</td>\n",
              "      <td>1.687860e+06</td>\n",
              "      <td>1.687860e+06</td>\n",
              "      <td>1.687860e+06</td>\n",
              "      <td>1.687860e+06</td>\n",
              "      <td>1.687860e+06</td>\n",
              "      <td>1.687860e+06</td>\n",
              "      <td>1.687860e+06</td>\n",
              "      <td>1.687860e+06</td>\n",
              "      <td>1.687860e+06</td>\n",
              "      <td>1.687860e+06</td>\n",
              "      <td>1.687860e+06</td>\n",
              "      <td>1.687860e+06</td>\n",
              "      <td>1.687860e+06</td>\n",
              "    </tr>\n",
              "    <tr>\n",
              "      <th>mean</th>\n",
              "      <td>4.961118e+02</td>\n",
              "      <td>7.872267e+00</td>\n",
              "      <td>4.405202e+01</td>\n",
              "      <td>1.781193e+02</td>\n",
              "      <td>3.449867e+02</td>\n",
              "      <td>5.063644e+02</td>\n",
              "      <td>5.592607e+01</td>\n",
              "      <td>1.750259e+02</td>\n",
              "      <td>3.417288e+02</td>\n",
              "      <td>5.252697e+02</td>\n",
              "      <td>5.277230e+01</td>\n",
              "      <td>2.043724e+00</td>\n",
              "      <td>-6.872059e+00</td>\n",
              "      <td>-6.437947e+00</td>\n",
              "      <td>6.264507e-01</td>\n",
              "    </tr>\n",
              "    <tr>\n",
              "      <th>std</th>\n",
              "      <td>2.961523e+04</td>\n",
              "      <td>7.056024e+00</td>\n",
              "      <td>1.342742e+03</td>\n",
              "      <td>5.026553e+03</td>\n",
              "      <td>9.795152e+03</td>\n",
              "      <td>1.437892e+04</td>\n",
              "      <td>1.928196e+03</td>\n",
              "      <td>5.192378e+03</td>\n",
              "      <td>9.613167e+03</td>\n",
              "      <td>1.483861e+04</td>\n",
              "      <td>1.254983e+03</td>\n",
              "      <td>2.360165e+02</td>\n",
              "      <td>2.655636e+01</td>\n",
              "      <td>2.584333e+01</td>\n",
              "      <td>3.372224e+01</td>\n",
              "    </tr>\n",
              "    <tr>\n",
              "      <th>min</th>\n",
              "      <td>-2.725600e+04</td>\n",
              "      <td>0.000000e+00</td>\n",
              "      <td>0.000000e+00</td>\n",
              "      <td>0.000000e+00</td>\n",
              "      <td>0.000000e+00</td>\n",
              "      <td>0.000000e+00</td>\n",
              "      <td>0.000000e+00</td>\n",
              "      <td>0.000000e+00</td>\n",
              "      <td>0.000000e+00</td>\n",
              "      <td>0.000000e+00</td>\n",
              "      <td>0.000000e+00</td>\n",
              "      <td>0.000000e+00</td>\n",
              "      <td>-9.900000e+01</td>\n",
              "      <td>-9.900000e+01</td>\n",
              "      <td>0.000000e+00</td>\n",
              "    </tr>\n",
              "    <tr>\n",
              "      <th>25%</th>\n",
              "      <td>4.000000e+00</td>\n",
              "      <td>4.000000e+00</td>\n",
              "      <td>0.000000e+00</td>\n",
              "      <td>0.000000e+00</td>\n",
              "      <td>0.000000e+00</td>\n",
              "      <td>0.000000e+00</td>\n",
              "      <td>0.000000e+00</td>\n",
              "      <td>0.000000e+00</td>\n",
              "      <td>0.000000e+00</td>\n",
              "      <td>0.000000e+00</td>\n",
              "      <td>0.000000e+00</td>\n",
              "      <td>0.000000e+00</td>\n",
              "      <td>6.300000e-01</td>\n",
              "      <td>6.600000e-01</td>\n",
              "      <td>0.000000e+00</td>\n",
              "    </tr>\n",
              "    <tr>\n",
              "      <th>50%</th>\n",
              "      <td>1.500000e+01</td>\n",
              "      <td>8.000000e+00</td>\n",
              "      <td>0.000000e+00</td>\n",
              "      <td>0.000000e+00</td>\n",
              "      <td>0.000000e+00</td>\n",
              "      <td>0.000000e+00</td>\n",
              "      <td>0.000000e+00</td>\n",
              "      <td>1.000000e+00</td>\n",
              "      <td>2.000000e+00</td>\n",
              "      <td>4.000000e+00</td>\n",
              "      <td>0.000000e+00</td>\n",
              "      <td>0.000000e+00</td>\n",
              "      <td>8.200000e-01</td>\n",
              "      <td>8.100000e-01</td>\n",
              "      <td>0.000000e+00</td>\n",
              "    </tr>\n",
              "    <tr>\n",
              "      <th>75%</th>\n",
              "      <td>8.000000e+01</td>\n",
              "      <td>9.000000e+00</td>\n",
              "      <td>0.000000e+00</td>\n",
              "      <td>4.000000e+00</td>\n",
              "      <td>1.200000e+01</td>\n",
              "      <td>2.000000e+01</td>\n",
              "      <td>4.000000e+00</td>\n",
              "      <td>1.500000e+01</td>\n",
              "      <td>3.100000e+01</td>\n",
              "      <td>4.700000e+01</td>\n",
              "      <td>3.000000e+00</td>\n",
              "      <td>0.000000e+00</td>\n",
              "      <td>9.700000e-01</td>\n",
              "      <td>9.500000e-01</td>\n",
              "      <td>0.000000e+00</td>\n",
              "    </tr>\n",
              "    <tr>\n",
              "      <th>max</th>\n",
              "      <td>1.233440e+07</td>\n",
              "      <td>5.200000e+01</td>\n",
              "      <td>4.894080e+05</td>\n",
              "      <td>1.427612e+06</td>\n",
              "      <td>2.461360e+06</td>\n",
              "      <td>3.777304e+06</td>\n",
              "      <td>7.417740e+05</td>\n",
              "      <td>1.105478e+06</td>\n",
              "      <td>2.146625e+06</td>\n",
              "      <td>3.205172e+06</td>\n",
              "      <td>3.133190e+05</td>\n",
              "      <td>1.464960e+05</td>\n",
              "      <td>1.000000e+00</td>\n",
              "      <td>1.000000e+00</td>\n",
              "      <td>1.253000e+04</td>\n",
              "    </tr>\n",
              "  </tbody>\n",
              "</table>\n",
              "</div>"
            ],
            "text/plain": [
              "       national_inv     lead_time  ...  perf_12_month_avg  local_bo_qty\n",
              "count  1.687860e+06  1.586967e+06  ...       1.687860e+06  1.687860e+06\n",
              "mean   4.961118e+02  7.872267e+00  ...      -6.437947e+00  6.264507e-01\n",
              "std    2.961523e+04  7.056024e+00  ...       2.584333e+01  3.372224e+01\n",
              "min   -2.725600e+04  0.000000e+00  ...      -9.900000e+01  0.000000e+00\n",
              "25%    4.000000e+00  4.000000e+00  ...       6.600000e-01  0.000000e+00\n",
              "50%    1.500000e+01  8.000000e+00  ...       8.100000e-01  0.000000e+00\n",
              "75%    8.000000e+01  9.000000e+00  ...       9.500000e-01  0.000000e+00\n",
              "max    1.233440e+07  5.200000e+01  ...       1.000000e+00  1.253000e+04\n",
              "\n",
              "[8 rows x 15 columns]"
            ]
          },
          "metadata": {},
          "execution_count": 78
        }
      ]
    },
    {
      "cell_type": "markdown",
      "metadata": {
        "id": "nUEgNHIfIbyQ"
      },
      "source": [
        "* By this we can see that, numerical values are of different scales, which is not good for any machine learning algorithms. So, need to perform standard scaling before applying any algorithm."
      ]
    },
    {
      "cell_type": "code",
      "metadata": {
        "id": "hQGw34DxU5T0",
        "colab": {
          "base_uri": "https://localhost:8080/",
          "height": 172
        },
        "outputId": "0b450522-d190-4f3e-da41-9f160369757e"
      },
      "source": [
        "df.describe(include=['O'])"
      ],
      "execution_count": 79,
      "outputs": [
        {
          "output_type": "execute_result",
          "data": {
            "text/html": [
              "<div>\n",
              "<style scoped>\n",
              "    .dataframe tbody tr th:only-of-type {\n",
              "        vertical-align: middle;\n",
              "    }\n",
              "\n",
              "    .dataframe tbody tr th {\n",
              "        vertical-align: top;\n",
              "    }\n",
              "\n",
              "    .dataframe thead th {\n",
              "        text-align: right;\n",
              "    }\n",
              "</style>\n",
              "<table border=\"1\" class=\"dataframe\">\n",
              "  <thead>\n",
              "    <tr style=\"text-align: right;\">\n",
              "      <th></th>\n",
              "      <th>sku</th>\n",
              "      <th>potential_issue</th>\n",
              "      <th>deck_risk</th>\n",
              "      <th>oe_constraint</th>\n",
              "      <th>ppap_risk</th>\n",
              "      <th>stop_auto_buy</th>\n",
              "      <th>rev_stop</th>\n",
              "      <th>went_on_backorder</th>\n",
              "    </tr>\n",
              "  </thead>\n",
              "  <tbody>\n",
              "    <tr>\n",
              "      <th>count</th>\n",
              "      <td>1687861</td>\n",
              "      <td>1687860</td>\n",
              "      <td>1687860</td>\n",
              "      <td>1687860</td>\n",
              "      <td>1687860</td>\n",
              "      <td>1687860</td>\n",
              "      <td>1687860</td>\n",
              "      <td>1687860</td>\n",
              "    </tr>\n",
              "    <tr>\n",
              "      <th>unique</th>\n",
              "      <td>1687861</td>\n",
              "      <td>2</td>\n",
              "      <td>2</td>\n",
              "      <td>2</td>\n",
              "      <td>2</td>\n",
              "      <td>2</td>\n",
              "      <td>2</td>\n",
              "      <td>2</td>\n",
              "    </tr>\n",
              "    <tr>\n",
              "      <th>top</th>\n",
              "      <td>3272643</td>\n",
              "      <td>No</td>\n",
              "      <td>No</td>\n",
              "      <td>No</td>\n",
              "      <td>No</td>\n",
              "      <td>Yes</td>\n",
              "      <td>No</td>\n",
              "      <td>No</td>\n",
              "    </tr>\n",
              "    <tr>\n",
              "      <th>freq</th>\n",
              "      <td>1</td>\n",
              "      <td>1686953</td>\n",
              "      <td>1300377</td>\n",
              "      <td>1687615</td>\n",
              "      <td>1484026</td>\n",
              "      <td>1626774</td>\n",
              "      <td>1687129</td>\n",
              "      <td>1676567</td>\n",
              "    </tr>\n",
              "  </tbody>\n",
              "</table>\n",
              "</div>"
            ],
            "text/plain": [
              "            sku potential_issue  ... rev_stop went_on_backorder\n",
              "count   1687861         1687860  ...  1687860           1687860\n",
              "unique  1687861               2  ...        2                 2\n",
              "top     3272643              No  ...       No                No\n",
              "freq          1         1686953  ...  1687129           1676567\n",
              "\n",
              "[4 rows x 8 columns]"
            ]
          },
          "metadata": {},
          "execution_count": 79
        }
      ]
    },
    {
      "cell_type": "markdown",
      "metadata": {
        "id": "qujQS_yxJfF5"
      },
      "source": [
        "* `sku` has all unique values, so it can be removed. Since it can be any id for rows\n",
        "* all other non-numerical columns has 2 distinct values(YES/NO), which can be binary encoded (ie. can be converted into 1 & 0 )"
      ]
    },
    {
      "cell_type": "code",
      "metadata": {
        "id": "b5FJctgMU5Xh",
        "colab": {
          "base_uri": "https://localhost:8080/"
        },
        "outputId": "6d4e3de5-6a81-4ff2-becc-5a130e9e5c9c"
      },
      "source": [
        "df.isna().sum()/df.shape[0] * 100"
      ],
      "execution_count": 80,
      "outputs": [
        {
          "output_type": "execute_result",
          "data": {
            "text/plain": [
              "sku                  0.000000\n",
              "national_inv         0.000059\n",
              "lead_time            5.977625\n",
              "in_transit_qty       0.000059\n",
              "forecast_3_month     0.000059\n",
              "forecast_6_month     0.000059\n",
              "forecast_9_month     0.000059\n",
              "sales_1_month        0.000059\n",
              "sales_3_month        0.000059\n",
              "sales_6_month        0.000059\n",
              "sales_9_month        0.000059\n",
              "min_bank             0.000059\n",
              "potential_issue      0.000059\n",
              "pieces_past_due      0.000059\n",
              "perf_6_month_avg     0.000059\n",
              "perf_12_month_avg    0.000059\n",
              "local_bo_qty         0.000059\n",
              "deck_risk            0.000059\n",
              "oe_constraint        0.000059\n",
              "ppap_risk            0.000059\n",
              "stop_auto_buy        0.000059\n",
              "rev_stop             0.000059\n",
              "went_on_backorder    0.000059\n",
              "dtype: float64"
            ]
          },
          "metadata": {},
          "execution_count": 80
        }
      ]
    },
    {
      "cell_type": "markdown",
      "metadata": {
        "id": "NWJRFYggOHEm"
      },
      "source": [
        "* Around 6% of the `lead_time` values are `null`, which can be imputed by the mean of `lead_time` or by replacing `null` from 0"
      ]
    },
    {
      "cell_type": "markdown",
      "metadata": {
        "id": "IlMatBhu31T8"
      },
      "source": [
        "<h3> DATA CLEANING"
      ]
    },
    {
      "cell_type": "code",
      "metadata": {
        "id": "eNJSI5hGOqrJ"
      },
      "source": [
        "# removing the last row of the dataset\n",
        "df = df.iloc[:-1,:]"
      ],
      "execution_count": 81,
      "outputs": []
    },
    {
      "cell_type": "code",
      "metadata": {
        "id": "1jQ1RXK7eNPq",
        "colab": {
          "base_uri": "https://localhost:8080/"
        },
        "outputId": "ac486507-2a3b-4eaa-83f0-5a22280ef594"
      },
      "source": [
        "# removing the sku feature, since its not adding any value to the dataset\n",
        "df.drop(['sku'],axis=1, inplace=True)\n",
        "df.columns"
      ],
      "execution_count": 82,
      "outputs": [
        {
          "output_type": "execute_result",
          "data": {
            "text/plain": [
              "Index(['national_inv', 'lead_time', 'in_transit_qty', 'forecast_3_month',\n",
              "       'forecast_6_month', 'forecast_9_month', 'sales_1_month',\n",
              "       'sales_3_month', 'sales_6_month', 'sales_9_month', 'min_bank',\n",
              "       'potential_issue', 'pieces_past_due', 'perf_6_month_avg',\n",
              "       'perf_12_month_avg', 'local_bo_qty', 'deck_risk', 'oe_constraint',\n",
              "       'ppap_risk', 'stop_auto_buy', 'rev_stop', 'went_on_backorder'],\n",
              "      dtype='object')"
            ]
          },
          "metadata": {},
          "execution_count": 82
        }
      ]
    },
    {
      "cell_type": "code",
      "metadata": {
        "id": "4l1gzLwGeSGp"
      },
      "source": [
        "df[df.select_dtypes(include=['O']).columns] = df[df.select_dtypes(include=['O']).columns].applymap(lambda x: 0 if x=='No' else 1)"
      ],
      "execution_count": 83,
      "outputs": []
    },
    {
      "cell_type": "code",
      "metadata": {
        "id": "Q7Lzr1LmYMqh"
      },
      "source": [
        "df.fillna(value=df.lead_time.median(), inplace=True)"
      ],
      "execution_count": 89,
      "outputs": []
    },
    {
      "cell_type": "code",
      "metadata": {
        "id": "gVb0n2VHOqkG",
        "colab": {
          "base_uri": "https://localhost:8080/"
        },
        "outputId": "25f6722c-29d8-4814-9842-0ee0a20ff962"
      },
      "source": [
        "df.info()"
      ],
      "execution_count": 90,
      "outputs": [
        {
          "output_type": "stream",
          "name": "stdout",
          "text": [
            "<class 'pandas.core.frame.DataFrame'>\n",
            "RangeIndex: 1687860 entries, 0 to 1687859\n",
            "Data columns (total 22 columns):\n",
            " #   Column             Non-Null Count    Dtype  \n",
            "---  ------             --------------    -----  \n",
            " 0   national_inv       1687860 non-null  float64\n",
            " 1   lead_time          1687860 non-null  float64\n",
            " 2   in_transit_qty     1687860 non-null  float64\n",
            " 3   forecast_3_month   1687860 non-null  float64\n",
            " 4   forecast_6_month   1687860 non-null  float64\n",
            " 5   forecast_9_month   1687860 non-null  float64\n",
            " 6   sales_1_month      1687860 non-null  float64\n",
            " 7   sales_3_month      1687860 non-null  float64\n",
            " 8   sales_6_month      1687860 non-null  float64\n",
            " 9   sales_9_month      1687860 non-null  float64\n",
            " 10  min_bank           1687860 non-null  float64\n",
            " 11  potential_issue    1687860 non-null  int64  \n",
            " 12  pieces_past_due    1687860 non-null  float64\n",
            " 13  perf_6_month_avg   1687860 non-null  float64\n",
            " 14  perf_12_month_avg  1687860 non-null  float64\n",
            " 15  local_bo_qty       1687860 non-null  float64\n",
            " 16  deck_risk          1687860 non-null  int64  \n",
            " 17  oe_constraint      1687860 non-null  int64  \n",
            " 18  ppap_risk          1687860 non-null  int64  \n",
            " 19  stop_auto_buy      1687860 non-null  int64  \n",
            " 20  rev_stop           1687860 non-null  int64  \n",
            " 21  went_on_backorder  1687860 non-null  int64  \n",
            "dtypes: float64(15), int64(7)\n",
            "memory usage: 283.3 MB\n"
          ]
        }
      ]
    },
    {
      "cell_type": "code",
      "metadata": {
        "id": "ovaM5t31Oqc2"
      },
      "source": [
        ""
      ],
      "execution_count": 84,
      "outputs": []
    },
    {
      "cell_type": "code",
      "metadata": {
        "id": "Y92G9rkvOGIu"
      },
      "source": [
        ""
      ],
      "execution_count": 84,
      "outputs": []
    },
    {
      "cell_type": "code",
      "metadata": {
        "id": "JYdUlDgwU5aC"
      },
      "source": [
        ""
      ],
      "execution_count": 84,
      "outputs": []
    },
    {
      "cell_type": "code",
      "metadata": {
        "id": "rKCFd_wIU5cE"
      },
      "source": [
        "\n"
      ],
      "execution_count": 84,
      "outputs": []
    }
  ]
}